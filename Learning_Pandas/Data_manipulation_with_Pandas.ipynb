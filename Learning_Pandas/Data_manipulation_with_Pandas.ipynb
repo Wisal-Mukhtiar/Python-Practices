{
 "cells": [
  {
   "cell_type": "code",
   "execution_count": 16,
   "metadata": {},
   "outputs": [],
   "source": [
    "import pandas as pd\n",
    "import numpy as np\n",
    "import matplotlib.pyplot as plt"
   ]
  },
  {
   "cell_type": "code",
   "execution_count": 11,
   "metadata": {},
   "outputs": [],
   "source": [
    "df = pd.read_csv('supermarket_sales.csv')\n",
    "survey_df = pd.read_csv('survey_results_public.csv')"
   ]
  },
  {
   "cell_type": "markdown",
   "metadata": {},
   "source": [
    "<font size=\"5\"> Grouped statistics </font>"
   ]
  },
  {
   "cell_type": "code",
   "execution_count": null,
   "metadata": {
    "scrolled": true
   },
   "outputs": [],
   "source": [
    "df.head(1)"
   ]
  },
  {
   "cell_type": "markdown",
   "metadata": {},
   "source": [
    "<font size=\"3\"> groupby method </font>"
   ]
  },
  {
   "cell_type": "code",
   "execution_count": null,
   "metadata": {},
   "outputs": [],
   "source": [
    "# we can group certain results using groupby method\n",
    "# the results will be grouped by the different braches e.g A,B,C and mean of each will be found\n",
    "df.groupby(\"Branch\")[\"Total\"].mean()"
   ]
  },
  {
   "cell_type": "code",
   "execution_count": null,
   "metadata": {},
   "outputs": [],
   "source": [
    "# finding different statistics\n",
    "df.groupby(\"Gender\")[[\"Quantity\",\"cogs\"]].agg([np.median,np.mean,np.min])"
   ]
  },
  {
   "cell_type": "markdown",
   "metadata": {},
   "source": [
    "<font size=\"3\"> pivot_table method </font>"
   ]
  },
  {
   "cell_type": "code",
   "execution_count": null,
   "metadata": {},
   "outputs": [],
   "source": [
    "# same operation as 1st one of groupby, by default it finds mean\n",
    "df.pivot_table(values=\"Total\", index=\"Branch\")"
   ]
  },
  {
   "cell_type": "code",
   "execution_count": null,
   "metadata": {},
   "outputs": [],
   "source": [
    "#index for value with one want to group it, values, for the column of which stat will be found, columns=extra columns\n",
    "# for grouping\n",
    "df.pivot_table(index=\"Gender\",columns=\"Branch\",values=\"Total\",aggfunc=[np.median,np.mean,np.max])"
   ]
  },
  {
   "cell_type": "code",
   "execution_count": null,
   "metadata": {},
   "outputs": [],
   "source": [
    "# if we want to fill the empty values with dummy values and also want to add the values below above we can add margin, fill_valu\n",
    "df.pivot_table(index=\"Gender\",columns=\"Branch\",values=\"Total\",aggfunc=[np.median,np.mean,np.max],margins=True,fill_value=True)"
   ]
  },
  {
   "cell_type": "markdown",
   "metadata": {},
   "source": [
    "<font size=\"3\"> MISSING VALUES </font>"
   ]
  },
  {
   "cell_type": "code",
   "execution_count": null,
   "metadata": {},
   "outputs": [],
   "source": [
    "# if we want to check missing values in pandas, True will appear in place of values missing \n",
    "survey_df.isna()"
   ]
  },
  {
   "cell_type": "code",
   "execution_count": null,
   "metadata": {},
   "outputs": [],
   "source": [
    "# checking in columns, which column has missing values\n",
    "survey_df.isna().any()"
   ]
  },
  {
   "cell_type": "code",
   "execution_count": null,
   "metadata": {},
   "outputs": [],
   "source": [
    "# checking how many many values are missing in each column \n",
    "survey_df.isna().sum()"
   ]
  },
  {
   "cell_type": "code",
   "execution_count": null,
   "metadata": {},
   "outputs": [],
   "source": [
    "# plotting number of missing values with bar chart\n",
    "plt.rcParams['figure.figsize'] = [12, 8]\n",
    "survey_df.isna().sum().plot(kind=\"bar\")\n",
    "plt.show()"
   ]
  },
  {
   "cell_type": "code",
   "execution_count": 19,
   "metadata": {},
   "outputs": [
    {
     "data": {
      "text/plain": [
       "(64461, 61)"
      ]
     },
     "execution_count": 19,
     "metadata": {},
     "output_type": "execute_result"
    }
   ],
   "source": [
    "# removing the rows containing missing values\n",
    "survey_df.shape"
   ]
  },
  {
   "cell_type": "code",
   "execution_count": null,
   "metadata": {},
   "outputs": [],
   "source": [
    "# function drops all the rows containing even a single nan value\n",
    "survey_df.dropna()"
   ]
  },
  {
   "cell_type": "code",
   "execution_count": null,
   "metadata": {},
   "outputs": [],
   "source": [
    "# filling places (missing_values) with values  like zero in this case\n",
    "survey_df.fillna(0)"
   ]
  },
  {
   "cell_type": "markdown",
   "metadata": {},
   "source": [
    "<font size=\"3\"> creating dataframes </font>"
   ]
  },
  {
   "cell_type": "code",
   "execution_count": 26,
   "metadata": {},
   "outputs": [],
   "source": [
    "# from list of dictionary\n",
    "list_of_dict = [{'first_name':'Wisal','last_name':'Mukhtiar','email':'wisalmukhtiar7@gmail.com'},\n",
    "               {'first_name':'John','last_name':'Doe','email':'johndoe@gmail.com'}]\n",
    "list_df = pd.DataFrame(list_of_dict_dict)"
   ]
  },
  {
   "cell_type": "code",
   "execution_count": 28,
   "metadata": {},
   "outputs": [],
   "source": [
    "# from dictionary of list \n",
    "dict_of_list = {'first_name':['Wisal','jane'],\n",
    "               'last_name':['Mukhtiar','doe'],\n",
    "               'email':['wisalmukhtiar7@gmail.com','janedoe@gmail.com']}\n",
    "dict_df = pd.DataFrame(dict_of_list)"
   ]
  },
  {
   "cell_type": "code",
   "execution_count": null,
   "metadata": {},
   "outputs": [],
   "source": [
    "dict_df"
   ]
  },
  {
   "cell_type": "code",
   "execution_count": null,
   "metadata": {},
   "outputs": [],
   "source": []
  }
 ],
 "metadata": {
  "kernelspec": {
   "display_name": "Python 3",
   "language": "python",
   "name": "python3"
  },
  "language_info": {
   "codemirror_mode": {
    "name": "ipython",
    "version": 3
   },
   "file_extension": ".py",
   "mimetype": "text/x-python",
   "name": "python",
   "nbconvert_exporter": "python",
   "pygments_lexer": "ipython3",
   "version": "3.8.5"
  }
 },
 "nbformat": 4,
 "nbformat_minor": 4
}
