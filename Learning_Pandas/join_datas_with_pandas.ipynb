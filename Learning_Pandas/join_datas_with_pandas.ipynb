{
 "cells": [
  {
   "cell_type": "code",
   "execution_count": 3,
   "metadata": {},
   "outputs": [],
   "source": [
    "import pandas as pd\n",
    "import numpy as np\n",
    "import matplotlib.pyplot as plt"
   ]
  },
  {
   "cell_type": "code",
   "execution_count": 25,
   "metadata": {},
   "outputs": [],
   "source": [
    "ward = pd.read_pickle('datasets/ward.p')\n",
    "vehicles = pd.read_pickle('datasets/taxi_vehicles.p')\n",
    "taxi_owners = pd.read_pickle('datasets/taxi_owners.p')"
   ]
  },
  {
   "cell_type": "markdown",
   "metadata": {},
   "source": [
    "<font size=\"4\"> Inner Join </font> <br>\n",
    "An inner join returns only the data of the rows matching on both tables only"
   ]
  },
  {
   "cell_type": "code",
   "execution_count": 22,
   "metadata": {},
   "outputs": [
    {
     "data": {
      "text/plain": [
       "(3519, 10)"
      ]
     },
     "execution_count": 22,
     "metadata": {},
     "output_type": "execute_result"
    }
   ],
   "source": [
    "# joining two tables\n",
    "merged_df = vehicles.merge(taxi_owners, on='vid', suffixes=('_vehicle','_owner'))\n",
    "merged_df.shape"
   ]
  },
  {
   "cell_type": "code",
   "execution_count": 8,
   "metadata": {},
   "outputs": [],
   "source": [
    "# to avoid conflicts and hurdles we can also join tables on more than one columns, eg\n",
    "# merged_df = apps.merge(reviews, on=[....]) passing a list of arguements"
   ]
  },
  {
   "cell_type": "markdown",
   "metadata": {},
   "source": [
    "more than two tables can be joined via pandas using the following synatax"
   ]
  },
  {
   "cell_type": "code",
   "execution_count": null,
   "metadata": {},
   "outputs": [],
   "source": [
    "#three_merged = apps.merge(reviews, on='App').merge(ratings, on='app_code', suffix=('_app'.'ratings')"
   ]
  },
  {
   "cell_type": "markdown",
   "metadata": {},
   "source": [
    "<font size='4'> Left join </font>"
   ]
  },
  {
   "cell_type": "markdown",
   "metadata": {},
   "source": [
    "using the inner join all the rows with key matched were returned but with left join, the rows in left column would be returned if key didn't match."
   ]
  },
  {
   "cell_type": "code",
   "execution_count": 28,
   "metadata": {},
   "outputs": [],
   "source": [
    "# left join we write the how (which type of join ) = left\n",
    "merged_df_left = taxi_owners.merge(vehicles, on='vid', how='left')"
   ]
  },
  {
   "cell_type": "markdown",
   "metadata": {},
   "source": [
    "<font size=\"4\">Right Join </font> ( the mirror opposite of left join)"
   ]
  },
  {
   "cell_type": "markdown",
   "metadata": {},
   "source": [
    "the left_on and right_on are the values that the table need to be merged on, on left table and right table"
   ]
  },
  {
   "cell_type": "code",
   "execution_count": null,
   "metadata": {},
   "outputs": [],
   "source": [
    "# merged_df_right = movies.merge(movies_with_genres, how= 'right', left_on=#, right_on)"
   ]
  },
  {
   "cell_type": "markdown",
   "metadata": {},
   "source": [
    "<font size='4' > Outer Join </font>"
   ]
  },
  {
   "cell_type": "markdown",
   "metadata": {},
   "source": [
    " it just joins data from both tables on the specified column without whether there are matching keys or not. "
   ]
  },
  {
   "cell_type": "code",
   "execution_count": null,
   "metadata": {},
   "outputs": [],
   "source": [
    "# merged_df_outer = movies.merge(movies_with_genres, how='outer', suffixes=...)"
   ]
  }
 ],
 "metadata": {
  "kernelspec": {
   "display_name": "Python 3",
   "language": "python",
   "name": "python3"
  },
  "language_info": {
   "codemirror_mode": {
    "name": "ipython",
    "version": 3
   },
   "file_extension": ".py",
   "mimetype": "text/x-python",
   "name": "python",
   "nbconvert_exporter": "python",
   "pygments_lexer": "ipython3",
   "version": "3.8.5"
  }
 },
 "nbformat": 4,
 "nbformat_minor": 4
}
