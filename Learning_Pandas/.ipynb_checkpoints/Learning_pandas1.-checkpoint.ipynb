{
 "cells": [
  {
   "cell_type": "code",
   "execution_count": 2,
   "metadata": {},
   "outputs": [],
   "source": [
    "import pandas as pd"
   ]
  },
  {
   "cell_type": "code",
   "execution_count": 3,
   "metadata": {},
   "outputs": [],
   "source": [
    "df = pd.read_csv('survey_results_public.csv')"
   ]
  },
  {
   "cell_type": "code",
   "execution_count": null,
   "metadata": {
    "scrolled": true
   },
   "outputs": [],
   "source": [
    "# to know about your data frame, u can print .shape attribute to know how much rows and columns are in \n",
    "df.shape"
   ]
  },
  {
   "cell_type": "code",
   "execution_count": null,
   "metadata": {},
   "outputs": [],
   "source": [
    "# or we can use .info() method in order to know more about our data frame\n",
    "# prints out name of each column as well as data types as well as the number of entries etc\n",
    "df.info()"
   ]
  },
  {
   "cell_type": "code",
   "execution_count": null,
   "metadata": {},
   "outputs": [],
   "source": [
    "# we can set option if we want to see the desirable number of rows or columsn like this\n",
    "# after printing out the number of columns we can see that it prints out all the numbers of columns \n",
    "pd.set_option('display.max_columns',61)"
   ]
  },
  {
   "cell_type": "code",
   "execution_count": null,
   "metadata": {},
   "outputs": [],
   "source": [
    "# loading the other csv file, schema tells us what questions were asked during the survey  \n",
    "schema_df = pd.read_csv('survey_results_schema.csv')\n",
    "schema_df"
   ]
  },
  {
   "cell_type": "code",
   "execution_count": null,
   "metadata": {},
   "outputs": [],
   "source": [
    "# in order to view some specific rows from start or the end we use the .head() and .tail() methods from df e.g\n",
    "# we can specify the no of rows we want to see, inside the method \n",
    "df.head(15)"
   ]
  },
  {
   "cell_type": "code",
   "execution_count": null,
   "metadata": {},
   "outputs": [],
   "source": [
    "# if we want to access multiple columns of the df, we can pass a list of the \n",
    "df[['Respondent','Gender']]"
   ]
  },
  {
   "cell_type": "code",
   "execution_count": null,
   "metadata": {
    "scrolled": false
   },
   "outputs": [],
   "source": [
    "# we can acess the row we want to access via loc and iloc (with loc u can use labels, the columns names)\n",
    "df.iloc[1]\n",
    "# we can pass a list of rows we want df.iloc[[1,2,3]]\n",
    "# similarly we can view the columns too by i.loc[1, 2] # the  mean the first row and 2nd column "
   ]
  },
  {
   "cell_type": "code",
   "execution_count": null,
   "metadata": {},
   "outputs": [],
   "source": [
    "# if we want to get the count of unique values, number of \"yes\" or \"no\" are counted as responses\n",
    "df['Hobbyist'].value_counts() "
   ]
  },
  {
   "cell_type": "code",
   "execution_count": null,
   "metadata": {},
   "outputs": [],
   "source": [
    "# u can also pass indexes as the labels like, rows 0:2 and columns from hobb to empl\n",
    "df.loc[0:2, 'Hobbyist':'Employment']"
   ]
  }
 ],
 "metadata": {
  "kernelspec": {
   "display_name": "Python 3",
   "language": "python",
   "name": "python3"
  },
  "language_info": {
   "codemirror_mode": {
    "name": "ipython",
    "version": 3
   },
   "file_extension": ".py",
   "mimetype": "text/x-python",
   "name": "python",
   "nbconvert_exporter": "python",
   "pygments_lexer": "ipython3",
   "version": "3.8.5"
  }
 },
 "nbformat": 4,
 "nbformat_minor": 4
}
