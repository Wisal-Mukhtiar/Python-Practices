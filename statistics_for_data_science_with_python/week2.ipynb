{
 "cells": [
  {
   "cell_type": "code",
   "execution_count": 2,
   "metadata": {},
   "outputs": [],
   "source": [
    "import pandas as pd\n",
    "import numpy as np\n",
    "import matplotlib.pyplot as plt\n",
    "import seaborn as sns"
   ]
  },
  {
   "cell_type": "code",
   "execution_count": 3,
   "metadata": {
    "scrolled": true
   },
   "outputs": [],
   "source": [
    "ratings_df = pd.read_csv('teachingratings.csv')"
   ]
  },
  {
   "cell_type": "code",
   "execution_count": null,
   "metadata": {
    "scrolled": true
   },
   "outputs": [],
   "source": [
    "# there maybe a single instructor who had taught more than one courses, so removing the duplicate values\n",
    "no_duplicate_ratings_df = ratings_df.drop_duplicates(subset=['prof'])"
   ]
  },
  {
   "cell_type": "code",
   "execution_count": null,
   "metadata": {},
   "outputs": [],
   "source": [
    "# using bar chart of the seaborn library in order to visualize the data \n",
    "sns.set(style='whitegrid')\n",
    "sns.countplot(x='gender', data=ratings_df, hue='tenure')"
   ]
  },
  {
   "cell_type": "code",
   "execution_count": null,
   "metadata": {},
   "outputs": [],
   "source": [
    "# adding tenure + division (categorical vars)\n",
    "ax = sns.catplot(x='gender', data=ratings_df, kind='count', hue='tenure', row='division')"
   ]
  },
  {
   "cell_type": "code",
   "execution_count": null,
   "metadata": {},
   "outputs": [],
   "source": [
    "# for continous variables as well as categorical together, scattered plots are used \n",
    "ax = sns.scatterplot(x='age', y='eval', hue='gender',\n",
    "                     data=ratings_df)"
   ]
  },
  {
   "cell_type": "code",
   "execution_count": null,
   "metadata": {},
   "outputs": [],
   "source": [
    "# or \n",
    "g = sns.FacetGrid(ratings_df, row='tenure', hue='gender')\n",
    "g = (g.map(plt.scatter, \"age\", \"eval\").add_legend())"
   ]
  },
  {
   "cell_type": "code",
   "execution_count": 12,
   "metadata": {},
   "outputs": [
    {
     "data": {
      "image/png": "[encoded data removed]",
      "text/plain": [
       "<Figure size 432x288 with 1 Axes>"
      ]
     },
     "metadata": {
      "needs_background": "light"
     },
     "output_type": "display_data"
    }
   ],
   "source": [
    "# box plot \n",
    "a = sns.boxplot(x='tenure', y='age', data=ratings_df, hue='gender')"
   ]
  },
  {
   "cell_type": "code",
   "execution_count": null,
   "metadata": {
    "scrolled": true
   },
   "outputs": [],
   "source": [
    "# pie charts through matplotlib\n",
    "labels = ['Females', 'Males']\n",
    "sizes = [ratings_df['gender'].value_counts()[1],\n",
    "        ratings_df['gender'].value_counts()[0]]\n",
    "fig1,ax1 = plt.subplots()\n",
    "ax1.pie(sizes,labels=labels, autopct='%1.1f%%')"
   ]
  }
 ],
 "metadata": {
  "kernelspec": {
   "display_name": "Python 3",
   "language": "python",
   "name": "python3"
  },
  "language_info": {
   "codemirror_mode": {
    "name": "ipython",
    "version": 3
   },
   "file_extension": ".py",
   "mimetype": "text/x-python",
   "name": "python",
   "nbconvert_exporter": "python",
   "pygments_lexer": "ipython3",
   "version": "3.8.5"
  }
 },
 "nbformat": 4,
 "nbformat_minor": 4
}
