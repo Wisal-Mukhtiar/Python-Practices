{
 "cells": [
  {
   "cell_type": "code",
   "execution_count": 8,
   "metadata": {},
   "outputs": [],
   "source": [
    "import pandas as pd\n",
    "import numpy as np \n",
    "import matplotlib.pyplot as pyplot"
   ]
  },
  {
   "cell_type": "code",
   "execution_count": 11,
   "metadata": {},
   "outputs": [],
   "source": [
    "#read data from the CSV file into a pandas DataFrame\n",
    "# the url of course csv file\n",
    "df = pd.read_csv('teachingratings.csv')"
   ]
  },
  {
   "cell_type": "code",
   "execution_count": null,
   "metadata": {},
   "outputs": [],
   "source": [
    "#the df.info() function gives information about all the variable in the CSV files\n",
    "df.info()"
   ]
  },
  {
   "cell_type": "code",
   "execution_count": null,
   "metadata": {},
   "outputs": [],
   "source": [
    "# describe function describe thing like no of rows\n",
    "#mean, standard deviation, miniumum and max value\n",
    "\n",
    "df[['eval','beauty','age']].describe() # particular column or can do the whole df.describe()\n",
    "\n",
    "# one can also do seperately like if one want to do it for seperate like\n",
    "# df[['eval']].min()\n",
    "# df[['beauty']].median() etc"
   ]
  }
 ],
 "metadata": {
  "kernelspec": {
   "display_name": "Python 3",
   "language": "python",
   "name": "python3"
  },
  "language_info": {
   "codemirror_mode": {
    "name": "ipython",
    "version": 3
   },
   "file_extension": ".py",
   "mimetype": "text/x-python",
   "name": "python",
   "nbconvert_exporter": "python",
   "pygments_lexer": "ipython3",
   "version": "3.8.5"
  }
 },
 "nbformat": 4,
 "nbformat_minor": 4
}
